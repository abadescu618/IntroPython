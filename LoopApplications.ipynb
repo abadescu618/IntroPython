{
 "cells": [
  {
   "cell_type": "markdown",
   "metadata": {},
   "source": [
    "## Algorithms, Computers, Programming I - Homework"
   ]
  },
  {
   "cell_type": "markdown",
   "metadata": {},
   "source": [
    "1) For each, create a while loop and a for loop which:\n",
    "\n",
    "    a) The first 10 terms of the sequence: 3, 6, 9, ...\n",
    "    b) The first 15 terms of the sequence: 2, 4, 8, 16, ...\n",
    "    c) The first 20 terms of the sequence: 100, 100, 99, 97, 94, 90, ...\n",
    "        Hint: How many are being subtracted to go from one term to the next?\n",
    "    d) The first 25 terms of the sequence: 1, 1, 2, 3, 5\n",
    "        Hint: Each term is the sum of the previous term"
   ]
  },
  {
   "cell_type": "code",
   "execution_count": null,
   "metadata": {
    "scrolled": true
   },
   "outputs": [],
   "source": [
    "#Part A\n",
    "for x in range(1,11):\n",
    "    print(3*x)\n",
    "\n",
    "x=1\n",
    "while x <=10:\n",
    "    y=3*x\n",
    "    x=x+1\n",
    "    print(y)\n",
    "    \n",
    "print('-------')\n",
    "    \n",
    "#Part B\n",
    "for x in range (1,16):\n",
    "    y=2**(x)\n",
    "    print(y)\n",
    "\n",
    "x=1\n",
    "while x<=15:\n",
    "    y=2**x\n",
    "    x=x+1\n",
    "    print(y)\n",
    "    \n",
    "print('-------')\n",
    "\n",
    "#Part C\n",
    "for x in range (0,20):\n",
    "    y=int(100-((x*(x-1)/2)))\n",
    "    print(y)\n",
    "    \n",
    "x=0\n",
    "while x<=19:\n",
    "    y=int(100-((x*(x-1)/2)))\n",
    "    x=x+1\n",
    "    print(y)\n",
    "\n",
    "print('-------')\n",
    "    \n",
    "#Part D\n",
    "def f(n):\n",
    "    if n<=1:\n",
    "        return n\n",
    "    else:\n",
    "        return (f(n-1)+f(n-2))\n",
    "    \n",
    "for x in range(1,26):\n",
    "     print(f(x))\n",
    "\n",
    "x=1\n",
    "while x<=25:\n",
    "    print(f(x))\n",
    "    x=x+1"
   ]
  },
  {
   "cell_type": "markdown",
   "metadata": {},
   "source": [
    "2) Using that $$\\pi = 4(1 - \\frac{1}{3} + \\frac{1}{5} - \\frac{1}{7} + \\dots)$$ Allow the user to specify the number of terms in this series to include in an approximation of $\\pi$ and calculate it."
   ]
  },
  {
   "cell_type": "code",
   "execution_count": 3,
   "metadata": {},
   "outputs": [
    {
     "name": "stdout",
     "output_type": "stream",
     "text": [
      "How many terms would you like to approximate pi to? 2\n",
      "The series approximation of pi to 2 terms is 2.666666666666667.\n"
     ]
    }
   ],
   "source": [
    "n=int(input('How many terms would you like to approximate pi to? '))\n",
    "\n",
    "answer=0\n",
    "for x in range(0,n):\n",
    "    term=(4*(-1)**x)/(2*x + 1)\n",
    "    answer=answer+term\n",
    "print('The series approximation of pi to {0} terms is {1}.'.format(n,answer))"
   ]
  },
  {
   "cell_type": "markdown",
   "metadata": {},
   "source": [
    "3) Create a loop which \"reverses\" an integer variable named $x$. Here is an example of the algorithm (which reverses 416 to 614):\n",
    "\n",
    "416 % 10 = 6 and 416/10 = 41 and 0*10 + 6 = 6\n",
    "\n",
    "41 % 10 = 1 and 41/10 = 4 and 6*10 + 1 = 61\n",
    "\n",
    "4 % 10 = 4 and 4/10 = 0 and 61*10 + 4 = 614\n",
    "\n"
   ]
  },
  {
   "cell_type": "code",
   "execution_count": null,
   "metadata": {},
   "outputs": [],
   "source": [
    "x=int(input('Which integer would you like to reverse? '))\n",
    "\n",
    "answer=0\n",
    "while x > 0:\n",
    "    answer *= 10\n",
    "    answer += (x % 10)\n",
    "    x //= 10\n",
    "\n",
    "print('The reversed integer is {}.'.format(answer))"
   ]
  },
  {
   "cell_type": "markdown",
   "metadata": {},
   "source": [
    "4) Create a loop which keeps asking the user for a positive integer. The program will keep track of the average integer. The program will stop when the user enters an integer which is not positive and then will display the correct average."
   ]
  },
  {
   "cell_type": "code",
   "execution_count": null,
   "metadata": {},
   "outputs": [],
   "source": [
    "avg = 0\n",
    "numcount = 0\n",
    "while True:\n",
    "    newnum = int(input('Enter a positive integer. '))\n",
    "    if newnum<=0:\n",
    "        break\n",
    "    numcount = numcount + 1\n",
    "    avg = ((((avg * (numcount - 1)) + newnum) / numcount))\n",
    "    \n",
    "print ('The current average is {0}.'.format(avg))"
   ]
  },
  {
   "cell_type": "markdown",
   "metadata": {},
   "source": [
    "5) Create a function that will return an integer that the user enters. If the user enters something which is not an integer, it will continuously ask the user to enter an integer. An integer is defined as:\n",
    "- The first character must be - or 0-9\n",
    "- All subsequent characters must be 0-9\n",
    "- The only integer that starts with 0 is 0\n",
    "- After a -, the next character must be 1-9\n",
    "- A - cannot appear by itself"
   ]
  },
  {
   "cell_type": "code",
   "execution_count": null,
   "metadata": {},
   "outputs": [],
   "source": [
    "# Since Python already knows what an int is, can check if the input is an int through int class\n",
    "\n",
    "def intconvert():\n",
    "    while True:\n",
    "        x=input('Enter an integer. ')\n",
    "        if x[0]!='0' and x[0]!='-':\n",
    "            try:\n",
    "                x = int(x)\n",
    "            except ValueError:\n",
    "                print('That is not a valid integer. Please try again. ')\n",
    "            else:\n",
    "                print('{0} is a valid integer.'.format(x))\n",
    "                break\n",
    "        elif x[0]=='0' and len(x)>1:\n",
    "            print('That is not a valid integer. Please try again. ')\n",
    "        elif x[0]=='0' and len(x)==1:\n",
    "            print('{0} is a valid integer.'.format(x))\n",
    "            break\n",
    "        elif x[0]=='-' and len(x)>1 and x[1]!='0':\n",
    "            try:\n",
    "                x = int(x)\n",
    "            except ValueError:\n",
    "                print('That is not a valid integer. Please try again. ')\n",
    "            else:\n",
    "                print('{0} is a valid integer.'.format(x))\n",
    "                break\n",
    "        else:\n",
    "            print('That is not a valid integer. Please try again. ')          \n",
    "intconvert()"
   ]
  },
  {
   "cell_type": "markdown",
   "metadata": {},
   "source": [
    "6) Create a function which can \"shift\" a letter by a key. Assign each letter a number from 0 to 25 (A - 0, B - 1, C - 2, etc.). For example, suppose the key is 4, then f('A',4) = 'E' and f('Y', 4) = 'C'. If the key is -4, then f('E',-4) = 'A' and f('C',-4) = 'Y'. Make sure your function maintains the case of the letter input, so f('A',4) = 'E' and f('a',4) = 'e'."
   ]
  },
  {
   "cell_type": "code",
   "execution_count": null,
   "metadata": {},
   "outputs": [],
   "source": [
    "abc_upper=list('ABCDEFGHIJKLMNOPQRSTUVWXYZ')\n",
    "abc_lower=list('ABCDEFGHIJKLMNOPQRSTUVWXYZ'.lower())\n",
    "\n",
    "x=input('Enter a letter to start shift from. ') #Assume only 1 letter entered\n",
    "y=int(input('Enter an integer key. ')) #Assume user enters proper integer\n",
    "def shift(x,y):\n",
    "    if x.islower():\n",
    "        new_abc_lower=abc_lower.copy()\n",
    "        new_abc_lower=new_abc_lower[abc_lower.index(x)::]+new_abc_lower[:abc_lower.index(x):]\n",
    "        return new_abc_lower[y]\n",
    "    elif x.isupper():\n",
    "        new_abc_upper=abc_upper.copy()\n",
    "        new_abc_upper=new_abc_upper[abc_upper.index(x)::]+new_abc_upper[:abc_upper.index(x):]\n",
    "        return new_abc_upper[y]\n",
    "print('The shifted letter is', shift(x,y))"
   ]
  },
  {
   "cell_type": "markdown",
   "metadata": {},
   "source": [
    "7) Using your answer from 6, create a function which can encode a string by a key and decode a string by a key (shifting each character in the string by the key). Encoding means the key is positive and decoding means the key is negative."
   ]
  },
  {
   "cell_type": "code",
   "execution_count": null,
   "metadata": {},
   "outputs": [],
   "source": [
    "string=input('Enter a string. No punctuation. ')\n",
    "length=len(string)\n",
    "choice=int(input('Enter 0 if you want to encode and 1 if you want to decode. ')) #Assume user enters proper integer\n",
    "key=int(input('Enter a positive integer key. ')) #Assume user enters proper integer\n",
    "\n",
    "def crypto(string,key,choice):\n",
    "    start=0\n",
    "    newstring=''\n",
    "    if choice==0:\n",
    "        while start<length:\n",
    "            newstring2=shift(string[start],key)\n",
    "            newstring+=newstring2\n",
    "            start=start+1\n",
    "        print('Your encoded string is', newstring)\n",
    "    else:\n",
    "        while start<length:\n",
    "            newstring2=shift(string[start],-key)\n",
    "            newstring+=newstring2\n",
    "            start=start+1\n",
    "        print('Your decoded string is', newstring)\n",
    "\n",
    "crypto(string,key,choice)"
   ]
  },
  {
   "cell_type": "markdown",
   "metadata": {},
   "source": [
    "8) In English, the most common character is 'e'. Make a program that will decode a string by assuming the most common character is supposed to be 'e'. For example, if the most common character in the string is 'g', the key used will be assumed to be 2 since f('e',2) = 'g', where f is the function described in 6."
   ]
  },
  {
   "cell_type": "code",
   "execution_count": null,
   "metadata": {},
   "outputs": [],
   "source": [
    "abc_upper=list('ABCDEFGHIJKLMNOPQRSTUVWXYZ')\n",
    "abc_lower=list('ABCDEFGHIJKLMNOPQRSTUVWXYZ'.lower())\n",
    "\n",
    "string=input('Enter a string to decode. Do not enter punctuation. ')\n",
    "from statistics import mode\n",
    "char=mode(string) #Assume mode exists and there is only 1, i.e. not bimodal\n",
    "print('The most common character in your string is {0}.'.format(char))\n",
    "\n",
    "if char.islower():\n",
    "    distance=abs(abc_lower.index(char)-abc_lower.index('e'))\n",
    "elif char.isupper():\n",
    "    distance=abs(abc_upper.index(char)-abc_upper.index('E'))\n",
    "    \n",
    "print(\"The distance from {0} to e in the abc's is {1}. Now decoding in this key.\".format(char,distance))\n",
    "crypto(string,distance,1)\n",
    "\n",
    "#Sometimes does not give fully shifted value, e.g. will enter \"sunn\" and output will be \"jl\", so not all letters get shifted.\n",
    "#Note that this properly displays as \"jlee\" in problem 7, where the same function is called."
   ]
  },
  {
   "cell_type": "markdown",
   "metadata": {},
   "source": [
    "9) Using the random class, create a function which generates random birthdays (An integer from 0 to 364) until a match is found. The function should return the number of birthdays generated. Now run your function 100 times and calculate the average number of birthdays generated to find a match."
   ]
  },
  {
   "cell_type": "code",
   "execution_count": null,
   "metadata": {},
   "outputs": [],
   "source": [
    "import random\n",
    "\n",
    "def birthday():\n",
    "    days=0\n",
    "    count=0\n",
    "    birthdays=[]\n",
    "    while True:\n",
    "        count=count+1\n",
    "        days=random.randint(0,364)\n",
    "        if days in birthdays:\n",
    "            return count\n",
    "        else:\n",
    "            birthdays.append(days)\n",
    "\n",
    "times=0\n",
    "for x in range(0,100):\n",
    "    times=times+birthday()\n",
    "\n",
    "print('The total number of birthdays generated is', times)\n",
    "print('The average number of runs to find a match is ', times/100)"
   ]
  },
  {
   "cell_type": "markdown",
   "metadata": {},
   "source": [
    "10) Using the random class and the work done in class, create a function that returns a list of 5 cards drawn from a shuffled deck without replacement. Run this function 10000 times and calculate the number of times where the 5 cards contain 4 of the same kind, for example: ['2 of Spades', '3 of Clubs', '2 of Diamonds', '2 of Spades', '2 of Hearts']."
   ]
  },
  {
   "cell_type": "code",
   "execution_count": null,
   "metadata": {},
   "outputs": [],
   "source": [
    "import random\n",
    "#Copy from Class\n",
    "suits = ['Spades','Clubs','Hearts','Diamonds']\n",
    "cards = list('23456789JQKA')\n",
    "cards.insert(8,'10')\n",
    "deck = [card+' of '+suit for card in cards for suit in suits]\n",
    "card = random.randint(1,51)\n",
    "deckcopy = deck.copy()\n",
    "def draw_wo_replacement(deckcopy):\n",
    "    index = random.randint(0,len(deckcopy)-1)\n",
    "    card = deckcopy[index]\n",
    "    deckcopy.pop(index)\n",
    "    return card\n",
    "def shuffle(deck):\n",
    "    deckcopy = deck.copy()\n",
    "    shuffled_deck = [draw_wo_replacement(deckcopy) for item in range(52)]\n",
    "    return shuffled_deck\n",
    "\n",
    "#Getting 5 cards from the shuffled deck\n",
    "def randomSample(x):\n",
    "    sampleCards=random.sample(shuffle(deck),x)\n",
    "    return sampleCards\n",
    "\n",
    "#Check whether there are 4 of a kind \n",
    "def OfaKind(x):\n",
    "    #long way to do it\n",
    "    fiveCards=randomSample(5)\n",
    "    first=fiveCards[0]\n",
    "    second=fiveCards[1]\n",
    "    third=fiveCards[2]\n",
    "    fourth=fiveCards[3]\n",
    "    fifth=fiveCards[4]\n",
    "    kinds=[first[0],second[0],third[0],fourth[0],fifth[0]]\n",
    "    a=kinds.count(kinds[0])\n",
    "    b=kinds.count(kinds[1])\n",
    "    c=kinds.count(kinds[2])\n",
    "    d=kinds.count(kinds[3])\n",
    "    e=kinds.count(kinds[4])\n",
    "    if a>=x or b>=x or c>=x or d>=x or e>=x:\n",
    "        same=1\n",
    "    else:\n",
    "        same=0\n",
    "    return same\n",
    "\n",
    "#Run this 10000 times\n",
    "count=0\n",
    "same=0\n",
    "while count<=10000:\n",
    "    count=count+1\n",
    "    OfaKind(4)\n",
    "    if OfaKind(4)==1:\n",
    "        same=same+1\n",
    "    else:\n",
    "        same=same\n",
    "print('{0} out of 10000 samples had 4 of the same kind of cards.'.format(same))\n",
    "\n",
    "#Note: very low result with running 10000 times, but much higher running it 100000 times."
   ]
  },
  {
   "cell_type": "markdown",
   "metadata": {},
   "source": [
    "11) Complete the attached assignment."
   ]
  },
  {
   "cell_type": "code",
   "execution_count": null,
   "metadata": {},
   "outputs": [],
   "source": [
    "#Getting user inputs\n",
    "coefficients=input('Enter the coefficients of the polynomial separated by spaces. ').split()\n",
    "coefficients=[float(x) for x in coefficients]\n",
    "degree=len(coefficients)-1\n",
    "print('This is a {0} degree polynomial whose coefficients are'.format(degree),coefficients,'.')\n",
    "guess=float(input('Enter your best guess for what f(x)=0 evaluates to. '))\n",
    "\n",
    "#Evaluating f(x) and f'(x)\n",
    "def f(coefficients, x):\n",
    "    result = 0\n",
    "    for n,i in enumerate(coefficients):\n",
    "        result += i*(x**n)\n",
    "    return result\n",
    "\n",
    "def fprime(coefficients,x):\n",
    "    deriv = 0\n",
    "    for n,i in enumerate(coefficients):\n",
    "        deriv += (i*n)*(x**(n-1))\n",
    "    return deriv\n",
    "\n",
    "print('Polynomial evaluated at best guess:',f(coefficients,guess))\n",
    "print('Derivative evaluated at best guess:',fprime(coefficients,guess))\n",
    "\n",
    "#Newton's Algorithm/Linear Approximation\n",
    "def newton(guess):\n",
    "    count=0\n",
    "    x=guess\n",
    "    while count<=100:\n",
    "        count=count+1\n",
    "        xn=x-(f(coefficients,x)/fprime(coefficients,x))\n",
    "        if abs(f(coefficients,x))<0.0001:\n",
    "            break\n",
    "            print('No solution was found.')\n",
    "        x=xn\n",
    "    return x\n",
    "\n",
    "print('The approximate solution to f(x)=0 is:',round(newton(guess),5))"
   ]
  }
 ],
 "metadata": {
  "kernelspec": {
   "display_name": "Python 3",
   "language": "python",
   "name": "python3"
  },
  "language_info": {
   "codemirror_mode": {
    "name": "ipython",
    "version": 3
   },
   "file_extension": ".py",
   "mimetype": "text/x-python",
   "name": "python",
   "nbconvert_exporter": "python",
   "pygments_lexer": "ipython3",
   "version": "3.7.3"
  }
 },
 "nbformat": 4,
 "nbformat_minor": 4
}
