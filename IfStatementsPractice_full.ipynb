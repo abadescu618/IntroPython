{
 "cells": [
  {
   "cell_type": "markdown",
   "metadata": {},
   "source": [
    "# Algorithms, Computers, Programming I - Homework"
   ]
  },
  {
   "cell_type": "markdown",
   "metadata": {},
   "source": [
    "### 1) Create a function that takes in an index, a list of values, and a target list and inserts those values in the target list beginning at the index. (This is like extend, but not just at the end of the list). Hint: Slice, extend, and concatenate."
   ]
  },
  {
   "cell_type": "code",
   "execution_count": null,
   "metadata": {},
   "outputs": [],
   "source": [
    "print(\"This program will allow you to amend any list to include any value you'd like at any position in the list.\")\n",
    "\n",
    "def listfn():\n",
    "    targetList=input('Enter any list with the values separated by spaces only. ').split()\n",
    "    values=list(input('Enter any number of any type of values separated by spaces: ').split())\n",
    "    index=int(input('At what index location would you like these values inserted? '))\n",
    "    newTargetList=targetList[0:index:1]\n",
    "    newTargetList.extend(values)\n",
    "    return newTargetList+targetList[index::1]\n",
    "\n",
    "print(listfn())"
   ]
  },
  {
   "cell_type": "markdown",
   "metadata": {},
   "source": [
    "### 2) Using the **count** function, create a function that returns only the unique elements in a list."
   ]
  },
  {
   "cell_type": "code",
   "execution_count": null,
   "metadata": {},
   "outputs": [],
   "source": [
    "print('This program returns unique elements of either a preset list of integers or a custom list.')\n",
    "def fn():\n",
    "    listType=str(input('Would you like to use a predefined list? Yes or No. '))\n",
    "    if listType!='Yes':\n",
    "        mylist=list(input('Enter a list of values you would like to work with separated by spaces. ').split())\n",
    "    else:\n",
    "        mylist=[(x**2)-30 for x in range(-20,51)]\n",
    "        print('The predefined list is',mylist)\n",
    "    return [x for x in mylist if mylist.count(x)==1]\n",
    "\n",
    "print('The unique values are', fn())"
   ]
  },
  {
   "cell_type": "markdown",
   "metadata": {},
   "source": [
    "### 3) Create a function that removes the first occurrence of one string from a target string or returns the target string if the string is not found in the target string. You shouldn't need to use if/else statements. Hint: Research the string functions found in dir(str)."
   ]
  },
  {
   "cell_type": "code",
   "execution_count": null,
   "metadata": {},
   "outputs": [],
   "source": [
    "print('This program removes the first occurrence of one string from the target string below.')\n",
    "anystring='This string is a collection of other random strings. Writing a list of random sentences is harder than I initially thought it would be. Where do random thoughts come from?'\n",
    "print(anystring)\n",
    "\n",
    "# Or could ask the user to input a target string that he/she wants to work with\n",
    "# anystring=input('Enter a phrase or collection of phrases that you want to work with.')\n",
    "\n",
    "def stringreplace():\n",
    "    x = input('What would you like to replace in the target string? ')\n",
    "    return anystring.replace(x,'',1)\n",
    "\n",
    "print('The new string is:',stringreplace())"
   ]
  },
  {
   "cell_type": "markdown",
   "metadata": {},
   "source": [
    "### 4) Create a function that takes in a percentage (a string) and returns the decimal value. So, e.g. \"20%\" becomes 0.2, \"30.75%\" becomes .3075, and \"200%\" becomes 2."
   ]
  },
  {
   "cell_type": "code",
   "execution_count": null,
   "metadata": {},
   "outputs": [],
   "source": [
    "print('This program returns the decimal value of any percentage.')\n",
    "\n",
    "def decimal():\n",
    "    x=input('Enter any percentage, including the percentage symbol. ')\n",
    "    x=float(x[0:len(x)-1:1])\n",
    "    return x/100\n",
    "\n",
    "print(decimal())"
   ]
  },
  {
   "cell_type": "markdown",
   "metadata": {},
   "source": [
    "### 5) Evaluate the truth values of each of the following without using Python:\n",
    "\n",
    "`x, y= 3, 5`\n",
    "\n",
    "a) x == 3\n",
    "\n",
    "b) x < y\n",
    "\n",
    "c) x >= y\n",
    "\n",
    "d) x <= y\n",
    "\n",
    "e) x != y - 2\n",
    "\n",
    "f) x < 10\n",
    "\n",
    "g) x >= 0 and x < 10\n",
    "\n",
    "h) x < 0 and x < 10\n",
    "\n",
    "i) x >= 0 and x < 2\n",
    "\n",
    "j) x < 0 or x < 10\n",
    "\n",
    "k) x > 0 or x < 10\n",
    "\n",
    "l) x < 0 or x > 10"
   ]
  },
  {
   "cell_type": "raw",
   "metadata": {},
   "source": [
    "x, y= 3, 5\n",
    "a) x == 3 - True\n",
    "b) x < y - True\n",
    "c) x >= y - False\n",
    "d) x <= y - True \n",
    "e) x != y - 2 - False\n",
    "f) x < 10 - True\n",
    "g) x >= 0 and x < 10  - True\n",
    "h) x < 0 and x < 10 - False\n",
    "i) x >= 0 and x < 2 - False\n",
    "j) x < 0 or x < 10 - True \n",
    "k) x > 0 or x < 10 - True\n",
    "l) x < 0 or x > 10 - False"
   ]
  },
  {
   "cell_type": "markdown",
   "metadata": {},
   "source": [
    "### 6) Write a program that allows the user to enter two integers. Using selection, your program should display one of the following phrases: The first integer is greater, The second integer is greater, The integers are equal."
   ]
  },
  {
   "cell_type": "code",
   "execution_count": null,
   "metadata": {},
   "outputs": [],
   "source": [
    "def inequalities():\n",
    "    integers=input('Enter any two integers separated by spaces. ').split()\n",
    "    first=int(integers[0])\n",
    "    second=int(integers[1])\n",
    "    if first>second:\n",
    "        return 'The first integer is greater.'\n",
    "    elif second>first:\n",
    "        return 'The second integer is greater.'\n",
    "    else:\n",
    "        return 'The integers are equal.'\n",
    "\n",
    "print(inequalities())"
   ]
  },
  {
   "cell_type": "markdown",
   "metadata": {},
   "source": [
    "### 7) Write a program that allows the user to enter a temperature. Your program should then convert from degrees Celsius to degrees Fahrenheit if the user enters C. It should convert from degrees Fahrenheit to degrees Celsius if the user enters F. It should display an error message otherwise."
   ]
  },
  {
   "cell_type": "code",
   "execution_count": null,
   "metadata": {},
   "outputs": [],
   "source": [
    "print('This program converts between degrees Celsius and degrees Fahrenheit.')\n",
    "\n",
    "def tempconversion():\n",
    "    temperature=float(input('Enter any temperature. '))\n",
    "    typecheck=input(\"Enter C if you'd like to convert from degrees Celsius to degrees Fahrenheit. Enter F if you'd like to convert from degrees Fahrenheit to degrees Celsius. \")\n",
    "    if typecheck=='C':\n",
    "        return (temperature*(9/5))+32\n",
    "    elif typecheck=='F':\n",
    "        return (temperature-32)*(5/9)\n",
    "    else:\n",
    "        return 'You did not specify the direction of conversion. Please enter C or F when prompted.'\n",
    "    \n",
    "print('Your converted temperature is',tempconversion())"
   ]
  },
  {
   "cell_type": "markdown",
   "metadata": {},
   "source": [
    "### 8) Create a program that allows the user to enter a single character. Display \"upper case\", \"lower case\", or \"neither\" appropriately."
   ]
  },
  {
   "cell_type": "code",
   "execution_count": null,
   "metadata": {},
   "outputs": [],
   "source": [
    "print('This program checks the case of any string.')\n",
    "\n",
    "def casecheck():\n",
    "    string=input('Enter a single character. ')\n",
    "    if string.isupper():\n",
    "        return 'The string is upper case.'\n",
    "    elif string.islower():\n",
    "        return 'The string is lower case.'\n",
    "    else:\n",
    "        return 'The string is neither upper nor lower case.'\n",
    "    \n",
    "print(casecheck())"
   ]
  },
  {
   "cell_type": "markdown",
   "metadata": {},
   "source": [
    "### 9) Allow the user to enter their percentage on an exam. Your program will then display a grade, according to the official Baruch grading scale. (A, A-, B+, etc.). Make sure you use an if-elif-else statement."
   ]
  },
  {
   "cell_type": "code",
   "execution_count": null,
   "metadata": {},
   "outputs": [],
   "source": [
    "print('This calculator will tell you what letter grade your numerical exam grade translates to.')\n",
    "\n",
    "def gradecalc():\n",
    "    numericGrade=float(input('What percentage grade did you get on the exam? Do not enter the percentage symbol. '))\n",
    "    if numericGrade >=93.0:\n",
    "        return 'You got an A!'\n",
    "    elif numericGrade < 93.0 and numericGrade >=90.0:\n",
    "        return 'You got an A-!'\n",
    "    elif numericGrade < 90.0 and numericGrade >=87.1:\n",
    "        return 'You got a B+.'\n",
    "    elif numericGrade < 87.1 and numericGrade >=83.0:\n",
    "        return 'You got a B.'\n",
    "    elif numericGrade < 83.0 and numericGrade >=80.0:\n",
    "        return 'You got a B-.'\n",
    "    elif numericGrade < 80.0 and numericGrade >=77.1:\n",
    "        return 'You got a C+.'\n",
    "    elif numericGrade < 77.1 and numericGrade >=73.0:\n",
    "        return 'You got a C.'\n",
    "    elif numericGrade < 73.0 and numericGrade >=70.0:\n",
    "        return 'You got a C-.'\n",
    "    elif numericGrade < 70.0 and numericGrade >=67.1:\n",
    "        return 'You got a D+.'\n",
    "    elif numericGrade < 67.1 and numericGrade >=60.0:\n",
    "        return 'You got a D.'\n",
    "    elif numericGrade < 60.0:\n",
    "        return 'You got an F.'\n",
    "    else:\n",
    "        return 'Your grade could not be calculated.'\n",
    "    \n",
    "print(gradecalc())"
   ]
  },
  {
   "cell_type": "markdown",
   "metadata": {},
   "source": [
    "### 10) The user enters two float numbers. Create an if-elif-else statement appropriate for the following menu:\n",
    "\n",
    "Choose an option:\n",
    "\n",
    "Enter A to calculate the maximum of the two numbers\n",
    "\n",
    "Enter B to calculate the minimum of the two numbers\n",
    "\n",
    "Enter C to calculate the average of the two numbers\n",
    "\n",
    "Enter D to calculate the distance between the two numbers\n",
    "\n",
    "and perform the appropriate action."
   ]
  },
  {
   "cell_type": "code",
   "execution_count": null,
   "metadata": {},
   "outputs": [],
   "source": [
    "numbers=input('Enter any two numbers separated by spaces. ').split()\n",
    "first=float(numbers[0])\n",
    "second=float(numbers[1])\n",
    "\n",
    "calculation=input('Enter A to calculate the maximum of the two numbers. Enter B to calculate the minimum of the two numbers. Enter C to calculate the average of the two numbers. Enter D to calculate the distance between the two numbers.')\n",
    "if calculation=='A':\n",
    "    print(max(first,second))\n",
    "elif calculation=='B':\n",
    "    print(min(first,second))\n",
    "elif calculation=='C':\n",
    "    print((first+second)/2)\n",
    "elif calculation=='D':\n",
    "    print(((first**2)+(second**2))**(1/2))\n",
    "else:\n",
    "    print('Your operation could not be completed.')"
   ]
  },
  {
   "cell_type": "markdown",
   "metadata": {},
   "source": [
    "### 11) Using if-else and/or if-elif-else statements only, make a program that can sort 5 integers. Users should enter these 5 integers by writing them on a line and hitting enter once. You may not use list functions or any built-in python functions. You may not use loops in any way."
   ]
  },
  {
   "cell_type": "code",
   "execution_count": null,
   "metadata": {},
   "outputs": [],
   "source": [
    "ints=input('Enter 5 integers separated by a space. ').split()\n",
    "# print(ints)\n",
    "a=int(ints[0])\n",
    "b=int(ints[1])\n",
    "c=int(ints[2])\n",
    "d=int(ints[3])\n",
    "e=int(ints[4]) \n",
    "\n",
    "#Finding first and second number\n",
    "if a<b:\n",
    "    n1=a\n",
    "    n2=b\n",
    "else:\n",
    "    n1=b\n",
    "    n2=a\n",
    "\n",
    "#Finding third number\n",
    "if c<n2 and c>n1:\n",
    "    n3=n2\n",
    "    n2=c\n",
    "elif c<n1:\n",
    "    n3=n2\n",
    "    n2=n1\n",
    "    n1=c\n",
    "else:\n",
    "    n3=c\n",
    "\n",
    "#Finding fourth number\n",
    "if d<n1:\n",
    "    n4=n3\n",
    "    n3=n2\n",
    "    n2=n1\n",
    "    n1=d   \n",
    "elif d<n2 and d>n1:\n",
    "    n4=n3\n",
    "    n3=n2\n",
    "    n2=d\n",
    "elif d<n3 and d>n2:\n",
    "    n4=n3\n",
    "    n3=d\n",
    "else:\n",
    "    n4=d\n",
    " \n",
    "#Finding fifth number\n",
    "if e<n1:\n",
    "    n5=n4\n",
    "    n4=n3\n",
    "    n3=n2\n",
    "    n2=n1\n",
    "    n1=e\n",
    "elif e<n2 and e>n1:\n",
    "    n5=n4\n",
    "    n4=n3\n",
    "    n3=n2\n",
    "    n2=e\n",
    "elif e<n3 and e>n2:\n",
    "    n5=n4\n",
    "    n4=n3\n",
    "    n3=e\n",
    "elif e<n4 and e>n3:\n",
    "    n5=n4\n",
    "    n4=e\n",
    "else:\n",
    "    n5=e\n",
    "  \n",
    "print('The integers sorted are: {0},{1},{2},{3},{4}'.format(n1,n2,n3,n4,n5))"
   ]
  },
  {
   "cell_type": "code",
   "execution_count": null,
   "metadata": {},
   "outputs": [],
   "source": []
  }
 ],
 "metadata": {
  "kernelspec": {
   "display_name": "Python 3",
   "language": "python",
   "name": "python3"
  },
  "language_info": {
   "codemirror_mode": {
    "name": "ipython",
    "version": 3
   },
   "file_extension": ".py",
   "mimetype": "text/x-python",
   "name": "python",
   "nbconvert_exporter": "python",
   "pygments_lexer": "ipython3",
   "version": "3.7.3"
  }
 },
 "nbformat": 4,
 "nbformat_minor": 2
}
