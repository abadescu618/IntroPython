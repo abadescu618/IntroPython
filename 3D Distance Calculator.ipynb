{
 "cells": [
  {
   "cell_type": "markdown",
   "metadata": {},
   "source": [
    "# 3D Distance Calculator"
   ]
  },
  {
   "cell_type": "code",
   "execution_count": null,
   "metadata": {},
   "outputs": [],
   "source": [
    "#Intro\n",
    "print('Hello! This calculator finds the shortest spherical distance between any two coordinate points.')\n",
    "print('\\n')\n",
    "\n",
    "import math\n",
    "\n",
    "#Necessary Variables\n",
    "latitude1 = float(input('Enter the latitude of your first location in degrees: '))\n",
    "longitude1 = float(input('Enter the longitude of your first location in degrees: '))\n",
    "latitude2 = float(input('Enter the latitude of your second location in degrees: '))\n",
    "longitude2 = float(input('Enter the longitude of your second location in degrees: '))\n",
    "r=3959.87\n",
    "\n",
    "#Define intermediate function\n",
    "def degree_converter(a):\n",
    "    return a*(3.14/180)\n",
    "\n",
    "x1=degree_converter(latitude1)\n",
    "x2=degree_converter(latitude2)\n",
    "y1=degree_converter(longitude1)\n",
    "y2=degree_converter(longitude2)\n",
    "\n",
    "#Define final function\n",
    "def distance_calculator(i,j,k,l,r):\n",
    "    sines=math.sin(i)*math.sin(j)\n",
    "    cosines=math.cos(i)*math.cos(j)*math.cos(k-l)\n",
    "    arccosine=math.acos(sines+cosines)\n",
    "    distance_sm=r*arccosine\n",
    "    return distance_sm\n",
    "\n",
    "#Display result to user\n",
    "print('\\n')\n",
    "print('The shortest spherical distance between the two entered points is approximately {0:.3f} statute miles.'.format(distance_calculator(x1,x2,y1,y2,r)))\n",
    "\n",
    "#Extra - Converting to km\n",
    "sm=distance_calculator(x1,x2,y1,y2,r)\n",
    "\n",
    "def distance_converter(sm):\n",
    "    return sm*1.609344\n",
    "\n",
    "km=distance_converter(sm)\n",
    "\n",
    "print('That is the equivalent of approximately {0:.3f} kilometers.'.format(km))"
   ]
  }
 ],
 "metadata": {
  "kernelspec": {
   "display_name": "Python 3",
   "language": "python",
   "name": "python3"
  },
  "language_info": {
   "codemirror_mode": {
    "name": "ipython",
    "version": 3
   },
   "file_extension": ".py",
   "mimetype": "text/x-python",
   "name": "python",
   "nbconvert_exporter": "python",
   "pygments_lexer": "ipython3",
   "version": "3.7.3"
  }
 },
 "nbformat": 4,
 "nbformat_minor": 2
}
