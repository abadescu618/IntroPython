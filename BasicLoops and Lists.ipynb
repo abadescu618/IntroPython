{
 "cells": [
  {
   "cell_type": "markdown",
   "metadata": {},
   "source": [
    "# BasicLoops and Lists"
   ]
  },
  {
   "cell_type": "code",
   "execution_count": null,
   "metadata": {},
   "outputs": [],
   "source": [
    "#\"Paired\" Loop\n",
    "for n in range(0,6):\n",
    "  print('hello')\n",
    "  print('bye')\n",
    "print('done')\n",
    "#Stacks of Loops\n",
    "for n in range(0,3):\n",
    "  print('how are you')\n",
    "for n in range(0,3):\n",
    "  print('pce')\n",
    "for n in range(6):\n",
    "  print(n*2)\n",
    "#Below is problematic for searching\n",
    "album1='Album Whatever'\n",
    "album2='Kill Em All'\n",
    "album500='xcvbn'\n",
    "#Solution is to create list\n",
    "albums=['Album Whatever','Kill Em All','The Black Album']\n",
    "#you can manipulate above, i.e. access items within list, each has invisible address, first=address 0\n",
    "print(albums)\n",
    "print(albums[0])\n",
    "for n in range(0,3):\n",
    "  print(albums[n])\n",
    "#THIS IS COOL\n",
    "  #album_number=input('What number album do you want? ')\n",
    "  #print(albums[int(album_number)])\n",
    "length_of_list=len(albums)\n",
    "print('The list length is:',length_of_list)\n",
    "for n in range(0,length_of_list):\n",
    "  print(albums[n])\n",
    "#More elegant way to list loop\n",
    "stuff=['coffee','banana','fruit','acai']\n",
    "for a in stuff:\n",
    "  print(a)\n",
    "stuff.append('new stuff')\n",
    "print(stuff)\n",
    "albums.extend(stuff)\n",
    "print(albums)\n",
    "albums.remove('Kill Em All')\n",
    "print(albums)\n",
    "fruits=['apple','grape','strawberry']\n",
    "print(fruits)\n",
    "fruits.reverse()\n",
    "print(fruits)\n",
    "#Working with book library\n",
    "books=['mocking bird','romeo and juliet']\n",
    "print(books)\n",
    "books_to_add=input('What book do you want to add? ')\n",
    "books.append(books_to_add)\n",
    "print(books)\n",
    "books_to_remove=input('What books do you want to remove? ')\n",
    "books.remove(books_to_remove)\n",
    "print(books)"
   ]
  }
 ],
 "metadata": {
  "kernelspec": {
   "display_name": "Python 3",
   "language": "python",
   "name": "python3"
  },
  "language_info": {
   "codemirror_mode": {
    "name": "ipython",
    "version": 3
   },
   "file_extension": ".py",
   "mimetype": "text/x-python",
   "name": "python",
   "nbconvert_exporter": "python",
   "pygments_lexer": "ipython3",
   "version": "3.7.3"
  }
 },
 "nbformat": 4,
 "nbformat_minor": 2
}
