{
 "cells": [
  {
   "cell_type": "markdown",
   "metadata": {},
   "source": [
    "# Probability Applications"
   ]
  },
  {
   "cell_type": "code",
   "execution_count": null,
   "metadata": {},
   "outputs": [],
   "source": [
    "import scipy\n",
    "import scipy.stats\n",
    "import math\n",
    "\n",
    "#Question 1 - Probability of a normal random variable with expected value m, variance sigma^2, on probability bounds a to b\n",
    "m=2.9\n",
    "sigma=scipy.sqrt(30.8)\n",
    "a=0.2\n",
    "b=7.9\n",
    "result=scipy.stats.norm.cdf((b-m)/sigma)-scipy.stats.norm.cdf((a-m)/sigma)\n",
    "print(\"Q1 is \",round(result,3))\n",
    "\n",
    "#Question 2 - Expected Value of Poisson random variable with parameter lambda l, on probability bounds c to d\n",
    "l=6\n",
    "c=7\n",
    "d=11\n",
    "sum=0\n",
    "\n",
    "for x in range(c,d+1):\n",
    "  sum += math.exp(-l) * (l**x)/math.factorial(x)\n",
    "sum\n",
    "print(\"Q2 is \", round(sum,3))\n"
   ]
  }
 ],
 "metadata": {
  "kernelspec": {
   "display_name": "Python 3",
   "language": "python",
   "name": "python3"
  },
  "language_info": {
   "codemirror_mode": {
    "name": "ipython",
    "version": 3
   },
   "file_extension": ".py",
   "mimetype": "text/x-python",
   "name": "python",
   "nbconvert_exporter": "python",
   "pygments_lexer": "ipython3",
   "version": "3.7.3"
  }
 },
 "nbformat": 4,
 "nbformat_minor": 2
}
