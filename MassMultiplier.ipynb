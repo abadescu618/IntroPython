{
 "cells": [
  {
   "cell_type": "markdown",
   "metadata": {},
   "source": [
    "# MassMultiplier"
   ]
  },
  {
   "cell_type": "code",
   "execution_count": null,
   "metadata": {},
   "outputs": [],
   "source": [
    "#Defining the function - establishing existance\n",
    "def say_hello():\n",
    "  print('hello')\n",
    "  print('bye')\n",
    "#Using function\n",
    "say_hello()\n",
    "for n in range(0,3):\n",
    "  say_hello()\n",
    "#Looping functions\n",
    "def repeater(n):\n",
    "  print('awesome '*n)\n",
    "question=input('How many times to multiply? ')\n",
    "repeater(int(question))\n",
    "def multiplier(a,b):\n",
    "  print(a*b)\n",
    "multiplier(5,10)\n",
    "multiplier(2,3)\n",
    "def multiplier_new(a,b,c,d,e,f):\n",
    "  xyz=a*b*c*d*e*f\n",
    "  return xyz\n",
    "print(multiplier_new(5,10,1,1,1,1))\n",
    "def efficiency(a):\n",
    "  print(a)\n",
    "list_of_numbers=range(0,100)\n",
    "efficiency(list_of_numbers)\n",
    "#How to mass multiply?\n",
    "def mass_multiplier(inbound_list):\n",
    "  product=1\n",
    "  for item_in_list in inbound_list:\n",
    "    product = item_in_list*product\n",
    "  return(product)\n",
    "\n",
    "mass_multiplier(list_of_numbers)  \n",
    "result=mass_multiplier(list_of_numbers)\n",
    "print(result)\n"
   ]
  }
 ],
 "metadata": {
  "kernelspec": {
   "display_name": "Python 3",
   "language": "python",
   "name": "python3"
  },
  "language_info": {
   "codemirror_mode": {
    "name": "ipython",
    "version": 3
   },
   "file_extension": ".py",
   "mimetype": "text/x-python",
   "name": "python",
   "nbconvert_exporter": "python",
   "pygments_lexer": "ipython3",
   "version": "3.7.3"
  }
 },
 "nbformat": 4,
 "nbformat_minor": 2
}
