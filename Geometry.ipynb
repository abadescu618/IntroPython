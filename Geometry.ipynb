{
 "cells": [
  {
   "cell_type": "markdown",
   "metadata": {},
   "source": [
    "# Geometry"
   ]
  },
  {
   "cell_type": "code",
   "execution_count": null,
   "metadata": {},
   "outputs": [],
   "source": [
    "#Size of Square\n",
    "size_sq=int(input(\"What size square do you want? \"))\n",
    "for n in range (1,size_sq):\n",
    "  print(size_sq*\"*\")\n",
    "\n",
    "area_sq=size_sq*size_sq\n",
    "print('The area of the square is', area_sq)\n",
    "\n",
    "\n",
    "#Turn it into triangle\n",
    "size_tr=int(input(\"What height tringle do you want? \"))\n",
    "for n in range (1,size_tr):\n",
    "  print(n*\"*\")\n",
    "area_tr=(0.5*(size_tr-1)*n)\n",
    "print('The area of the trianlge is', area_tr)"
   ]
  }
 ],
 "metadata": {
  "kernelspec": {
   "display_name": "Python 3",
   "language": "python",
   "name": "python3"
  },
  "language_info": {
   "codemirror_mode": {
    "name": "ipython",
    "version": 3
   },
   "file_extension": ".py",
   "mimetype": "text/x-python",
   "name": "python",
   "nbconvert_exporter": "python",
   "pygments_lexer": "ipython3",
   "version": "3.7.3"
  }
 },
 "nbformat": 4,
 "nbformat_minor": 2
}
