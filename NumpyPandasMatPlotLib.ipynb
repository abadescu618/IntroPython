{
 "cells": [
  {
   "cell_type": "markdown",
   "metadata": {},
   "source": [
    "## Algorithms, Computers, Programming I - Homework"
   ]
  },
  {
   "cell_type": "code",
   "execution_count": null,
   "metadata": {},
   "outputs": [],
   "source": [
    "%matplotlib inline\n",
    "import pandas as pd\n",
    "import numpy as np\n",
    "import matplotlib.pyplot as plt"
   ]
  },
  {
   "cell_type": "markdown",
   "metadata": {},
   "source": [
    "1) Using numpy functions only, create a 4x5 matrix consisting of the first 20 multiples of 5."
   ]
  },
  {
   "cell_type": "code",
   "execution_count": null,
   "metadata": {},
   "outputs": [],
   "source": [
    "mat = np.arange(1,21).reshape((4,5))\n",
    "mat = mat*5\n",
    "print(mat)"
   ]
  },
  {
   "cell_type": "markdown",
   "metadata": {},
   "source": [
    "2) Using numpy functions only, now calculate the square root of each entry in your matrix in 1)."
   ]
  },
  {
   "cell_type": "code",
   "execution_count": null,
   "metadata": {},
   "outputs": [],
   "source": [
    "print(np.sqrt(mat))"
   ]
  },
  {
   "cell_type": "markdown",
   "metadata": {},
   "source": [
    "3) Using numpy functions only, now calculate the average value of each column in your matrix in 2)."
   ]
  },
  {
   "cell_type": "code",
   "execution_count": null,
   "metadata": {},
   "outputs": [],
   "source": [
    "mat2 = mat.T\n",
    "# print(mat2)\n",
    "\n",
    "i=0\n",
    "while i<=4:\n",
    "    print('The average value of column {0} is {1}.'.format(i+1,mat2[i].mean()))\n",
    "    i+=1"
   ]
  },
  {
   "cell_type": "markdown",
   "metadata": {},
   "source": [
    "4) Load the attached csv files into two pandas dataframes. (pitching.csv and salaries.csv)\n",
    "Create a pitching dataframe consisting only of the columns: playerID, yearID, teamID, GS (games started), and SO (strikeouts). Your salaries dataframe can have all the columns."
   ]
  },
  {
   "cell_type": "code",
   "execution_count": null,
   "metadata": {},
   "outputs": [],
   "source": [
    "df = pd.read_csv('Pitching.csv')\n",
    "pitching = df[['playerID', 'yearID', 'teamID', 'GS','SO']]\n",
    "salaries = pd.read_csv('Salaries.csv')\n",
    "# print(pitching.head())\n",
    "# print(salaries.head())"
   ]
  },
  {
   "cell_type": "markdown",
   "metadata": {},
   "source": [
    "5) Create a new data frame from the two in the previous problem by merging on the playerID, yearID, and teamID."
   ]
  },
  {
   "cell_type": "code",
   "execution_count": null,
   "metadata": {},
   "outputs": [],
   "source": [
    "merged_df = pd.merge(pitching,salaries,how='inner',on=['playerID','yearID','teamID'])\n",
    "# merged_df.head()"
   ]
  },
  {
   "cell_type": "markdown",
   "metadata": {},
   "source": [
    "6) Calculate the average cost for a pitcher per strike out for those players who have started 10 or more games. (Average the values of salary/strikeouts) during all years beginning in the year 2000."
   ]
  },
  {
   "cell_type": "code",
   "execution_count": null,
   "metadata": {},
   "outputs": [],
   "source": [
    "filterdata = merged_df[(merged_df.yearID>=2000) & (merged_df.GS>=10)]\n",
    "# print(filterdata.head())\n",
    "\n",
    "print('Average salary: ',np.mean(filterdata.salary))\n",
    "print('Average strikeout: ',np.mean(filterdata.SO))\n",
    "print('Average cost/strikeout: ',np.mean(filterdata.salary/filterdata.SO))"
   ]
  },
  {
   "cell_type": "markdown",
   "metadata": {},
   "source": [
    "7) Using matplotlib and pandas, create a single scatterplot of the players salary vs number of strikeouts for players who have started 10 or more games during the years 2000 - 2010."
   ]
  },
  {
   "cell_type": "code",
   "execution_count": null,
   "metadata": {},
   "outputs": [],
   "source": [
    "morefilter = merged_df[(merged_df.yearID>=2000) & (merged_df.yearID<=2010) & (merged_df.GS>=10)]\n",
    "# print(morefilter.head())\n",
    "\n",
    "plt.scatter(morefilter.salary,morefilter.SO,lw=0,alpha=0.1)\n",
    "plt.xlabel('Salary')\n",
    "plt.ylabel('Strikeouts')"
   ]
  },
  {
   "cell_type": "markdown",
   "metadata": {},
   "source": [
    "8) Using matplotlib, create one plot showing the three graphs described below:\n",
    "Let $$r=r_0+\\cos\\theta$$\n",
    "$$x=r\\cos\\theta$$\n",
    "$$y=r\\sin\\theta$$\n",
    "Make plots of $(x,y)$ for $r_0 = 0.8, 1.0,$ and $1.2$. Label the axes, create a legend showing the different r values, and give your plot a title."
   ]
  },
  {
   "cell_type": "code",
   "execution_count": null,
   "metadata": {},
   "outputs": [],
   "source": [
    "#Inputs - theta is infinite, r0 is single float\n",
    "theta = np.linspace(0, 2*np.pi, 100)\n",
    "r_values = [0.8,1.0,1.2]\n",
    "\n",
    "#Plots\n",
    "plt.figure(figsize=(10,10))\n",
    "\n",
    "r0 = r_values[0]\n",
    "r = r0 + np.cos(theta)\n",
    "y = r * np.sin(theta)\n",
    "x = r * np.cos(theta)\n",
    "plt.plot(x,y,label='r0=0.8')\n",
    "\n",
    "r0=r_values[1]\n",
    "r = r0 + np.cos(theta)\n",
    "y = r * np.sin(theta)\n",
    "x = r * np.cos(theta)\n",
    "plt.plot(x,y,color='red',label='r0=1.0')\n",
    "\n",
    "r0=r_values[2]\n",
    "r = r0 + np.cos(theta)\n",
    "y = r * np.sin(theta)\n",
    "x = r * np.cos(theta)\n",
    "plt.plot(x,y,color='yellow',label='r0=1.2')\n",
    "\n",
    "plt.legend(loc='lower left')\n",
    "plt.xlabel('x-values')\n",
    "plt.ylabel('y-values')\n",
    "plt.title('Cardioid')"
   ]
  }
 ],
 "metadata": {
  "kernelspec": {
   "display_name": "Python 3",
   "language": "python",
   "name": "python3"
  },
  "language_info": {
   "codemirror_mode": {
    "name": "ipython",
    "version": 3
   },
   "file_extension": ".py",
   "mimetype": "text/x-python",
   "name": "python",
   "nbconvert_exporter": "python",
   "pygments_lexer": "ipython3",
   "version": "3.7.3"
  }
 },
 "nbformat": 4,
 "nbformat_minor": 2
}
