{
 "cells": [
  {
   "cell_type": "markdown",
   "metadata": {},
   "source": [
    "## Algorithms, Computers, Programming I - Homework"
   ]
  },
  {
   "cell_type": "markdown",
   "metadata": {
    "collapsed": true
   },
   "source": [
    "1) Create a class for a 2x2 matrix. Give the init function and create functions to return each entry of the 2x2 matrix."
   ]
  },
  {
   "cell_type": "code",
   "execution_count": null,
   "metadata": {},
   "outputs": [],
   "source": [
    "class matrix:\n",
    "    def __init__(self,a,b,c,d):\n",
    "        self.a11=a\n",
    "        self.a12=b\n",
    "        self.a21=c\n",
    "        self.a22=d\n",
    "    \n",
    "    def get_a(self):\n",
    "        return self.a11\n",
    "    \n",
    "    def get_b(self):\n",
    "        return self.a12\n",
    "    \n",
    "    def get_c(self):\n",
    "        return self.a21\n",
    "    \n",
    "    def get_d(self):\n",
    "        return self.a22"
   ]
  },
  {
   "cell_type": "markdown",
   "metadata": {},
   "source": [
    "2) Create functions to give the trace and determinant of this matrix."
   ]
  },
  {
   "cell_type": "code",
   "execution_count": null,
   "metadata": {},
   "outputs": [],
   "source": [
    "class matrix:\n",
    "    def __init__(self,a,b,c,d):\n",
    "        self.a11=a\n",
    "        self.a12=b\n",
    "        self.a21=c\n",
    "        self.a22=d\n",
    "    \n",
    "    def get_a(self):\n",
    "        return self.a11\n",
    "    \n",
    "    def get_b(self):\n",
    "        return self.a12\n",
    "    \n",
    "    def get_c(self):\n",
    "        return self.a21\n",
    "    \n",
    "    def get_d(self):\n",
    "        return self.a22\n",
    "    \n",
    "    def trace(self):\n",
    "        tr=self.a11+self.a22\n",
    "        return tr\n",
    "    \n",
    "    def det(self):\n",
    "        part_one=self.a11*self.a22\n",
    "        part_two=self.a12*self.a21\n",
    "        result=part_one-part_two\n",
    "        return result"
   ]
  },
  {
   "cell_type": "markdown",
   "metadata": {},
   "source": [
    "3) Define add and mul functions to add and multiply matrices."
   ]
  },
  {
   "cell_type": "code",
   "execution_count": null,
   "metadata": {},
   "outputs": [],
   "source": [
    "class matrix:\n",
    "    def __init__(self,a,b,c,d):\n",
    "        self.a11=a\n",
    "        self.a12=b\n",
    "        self.a21=c\n",
    "        self.a22=d\n",
    "    \n",
    "    def get_a(self):\n",
    "        return self.a11\n",
    "    \n",
    "    def get_b(self):\n",
    "        return self.a12\n",
    "    \n",
    "    def get_c(self):\n",
    "        return self.a21\n",
    "    \n",
    "    def get_d(self):\n",
    "        return self.a22\n",
    "    \n",
    "    def trace(self):\n",
    "        tr=self.a11+self.a22\n",
    "        return tr\n",
    "    \n",
    "    def det(self):\n",
    "        part_one=self.a11*self.a22\n",
    "        part_two=self.a12*self.a21\n",
    "        result=part_one-part_two\n",
    "        return result\n",
    "    \n",
    "    def __add__(self,other):\n",
    "        new_a=self.get_a() + other.get_a()\n",
    "        new_b=self.get_b() + other.get_b()\n",
    "        new_c=self.get_c() + other.get_c()\n",
    "        new_d=self.get_d() + other.get_d()\n",
    "        result=matrix(new_a,new_b,new_c,new_d)\n",
    "        return result\n",
    "    \n",
    "    def __mul__(self,other):\n",
    "        new_a=(self.get_a() * other.get_a())+(self.get_b() * other.get_c())\n",
    "        new_b=(self.get_a() * other.get_b())+(self.get_b() * other.get_d())\n",
    "        new_c=(self.get_c() * other.get_a())+(self.get_d() * other.get_c())\n",
    "        new_d=(self.get_c() * other.get_b())+(self.get_d() * other.get_d())\n",
    "        result=matrix(new_a,new_b,new_c,new_d)\n",
    "        return result"
   ]
  },
  {
   "cell_type": "markdown",
   "metadata": {},
   "source": [
    "4) Define the str function to print a 2x2 matrix like: $[1,2;3,4]$\n"
   ]
  },
  {
   "cell_type": "code",
   "execution_count": 44,
   "metadata": {},
   "outputs": [],
   "source": [
    "class matrix:\n",
    "    def __init__(self,a,b,c,d):\n",
    "        self.a11=a\n",
    "        self.a12=b\n",
    "        self.a21=c\n",
    "        self.a22=d\n",
    "    \n",
    "    def get_a(self):\n",
    "        return self.a11\n",
    "    \n",
    "    def get_b(self):\n",
    "        return self.a12\n",
    "    \n",
    "    def get_c(self):\n",
    "        return self.a21\n",
    "    \n",
    "    def get_d(self):\n",
    "        return self.a22\n",
    "    \n",
    "    def trace(self):\n",
    "        tr=self.a11+self.a22\n",
    "        return tr\n",
    "    \n",
    "    def det(self):\n",
    "        part_one=self.a11*self.a22\n",
    "        part_two=self.a12*self.a21\n",
    "        result=part_one-part_two\n",
    "        return result\n",
    "    \n",
    "    def __add__(self,other):\n",
    "        new_a=self.get_a() + other.get_a()\n",
    "        new_b=self.get_b() + other.get_b()\n",
    "        new_c=self.get_c() + other.get_c()\n",
    "        new_d=self.get_d() + other.get_d()\n",
    "        result=matrix(new_a,new_b,new_c,new_d)\n",
    "        return result\n",
    "    \n",
    "    def __mul__(self,other):\n",
    "        new_a=(self.get_a() * other.get_a())+(self.get_b() * other.get_c())\n",
    "        new_b=(self.get_a() * other.get_b())+(self.get_b() * other.get_d())\n",
    "        new_c=(self.get_c() * other.get_a())+(self.get_d() * other.get_c())\n",
    "        new_d=(self.get_c() * other.get_b())+(self.get_d() * other.get_d())\n",
    "        result=matrix(new_a,new_b,new_c,new_d)\n",
    "        return result\n",
    "    \n",
    "    def __str__(self):\n",
    "        return '['+str(self.a11)+','+str(self.a12)+';'+str(self.a21)+','+str(self.a22)+']'"
   ]
  },
  {
   "cell_type": "markdown",
   "metadata": {},
   "source": [
    "5) Use your class to create matrices: $[1,2;3,4]$ and $[2,3;4,1]$. Print the trace and determinant of each, and show the result when adding and multiplying these matrices."
   ]
  },
  {
   "cell_type": "code",
   "execution_count": 45,
   "metadata": {},
   "outputs": [
    {
     "name": "stdout",
     "output_type": "stream",
     "text": [
      "[1,2;3,4]\n",
      "[2,3;4,1]\n",
      "5\n",
      "-2\n",
      "3\n",
      "-10\n",
      "[3,5;7,5]\n",
      "[10,5;22,13]\n"
     ]
    }
   ],
   "source": [
    "mat1=matrix(1,2,3,4)\n",
    "mat2=matrix(2,3,4,1)\n",
    "print(mat1)\n",
    "print(mat2)\n",
    "print(mat1.trace())\n",
    "print(mat1.det())\n",
    "print(mat2.trace())\n",
    "print(mat2.det())\n",
    "print(mat1+mat2)\n",
    "print(mat1*mat2)"
   ]
  },
  {
   "cell_type": "markdown",
   "metadata": {},
   "source": [
    "6) Complete the attached assignment."
   ]
  },
  {
   "cell_type": "code",
   "execution_count": 1,
   "metadata": {},
   "outputs": [],
   "source": [
    "class rational:\n",
    "    def __init__(self,n,d):\n",
    "        self.numerator=n\n",
    "        self.denominator=d\n",
    "    \n",
    "    def num(self):\n",
    "        return self.numerator\n",
    "    \n",
    "    def denom(self):\n",
    "        return self.denominator\n",
    "    \n",
    "    def __str__(self):\n",
    "        if self.denom()==0:\n",
    "            return 'undefined'\n",
    "        elif self.denom()==1:\n",
    "            return str(self.num())\n",
    "        elif self.denom()==-1:\n",
    "            return str(-self.num())\n",
    "        elif self.num()==0:\n",
    "            return '0'\n",
    "        elif self.num()<0 and self.denom()<0:\n",
    "            return str(-self.numerator)+'/'+str(-self.denominator)\n",
    "        else:\n",
    "            return str(self.numerator)+'/'+str(self.denominator)\n",
    "    \n",
    "    def convert(self):\n",
    "        decimal=self.numerator/self.denominator\n",
    "        return decimal\n",
    "    \n",
    "    def gcf(self):\n",
    "        x = self.numerator\n",
    "        y = self.denominator\n",
    "        while y!=0:\n",
    "            oldx = x\n",
    "            x = y\n",
    "            y = oldx % y\n",
    "        return x\n",
    "\n",
    "    def reduce(self):\n",
    "        new_n=int(self.num()/self.gcf())\n",
    "        new_d=int(self.denom()/self.gcf())\n",
    "        result=rational(new_n,new_d)\n",
    "        return result\n",
    "    \n",
    "    def __mul__(self,other):\n",
    "        new_n=self.num()*other.num()\n",
    "        new_d=self.denom()*other.denom()\n",
    "        result=rational(new_n,new_d)\n",
    "        return result.reduce()\n",
    "    \n",
    "    def __truediv__(self,other):\n",
    "        new_n=self.num()*other.denom()\n",
    "        new_d=self.denom()*other.num()\n",
    "        result=rational(new_n,new_d)\n",
    "        return result.reduce()\n",
    "    \n",
    "    def __sub__(self,other):\n",
    "        new_n=(self.num()*other.denom())-(self.denom()*other.num())\n",
    "        new_d=self.denom()*other.denom()\n",
    "        result=rational(new_n,new_d)\n",
    "        return result.reduce()\n",
    "    \n",
    "    def __add__(self,other):\n",
    "        new_n=(self.num()*other.denom())+(self.denom()*other.num())\n",
    "        new_d=self.denominator*other.denominator\n",
    "        result=rational(new_n,new_d)\n",
    "        return result.reduce()\n",
    "        \n",
    "    def __eq__(self,other):\n",
    "        if (self.num()*other.denom())==(self.denom()*other.num()):\n",
    "            return True\n",
    "        else:\n",
    "            return False\n",
    "    \n",
    "    def __ne__(self,other):\n",
    "        if (self.num()*other.denom())!=(self.denom()*other.num()):\n",
    "            return True\n",
    "        else:\n",
    "            return False\n",
    "    \n",
    "    def __lt__(self,other):\n",
    "        if (self.num()*other.denom())<(self.denom()*other.num()):\n",
    "            return True\n",
    "        else:\n",
    "            return False\n",
    "        \n",
    "    def __le__(self,other):\n",
    "        if (self.num()*other.denom())<=(self.denom()*other.num()):\n",
    "            return True\n",
    "        else:\n",
    "            return False\n",
    "        \n",
    "    def __gt__(self,other):\n",
    "        if (self.num()*other.denom())>(self.denom()*other.num()):\n",
    "            return True\n",
    "        else:\n",
    "            return False\n",
    "        \n",
    "    def __ge__(self,other):\n",
    "        if (self.num()*other.denom())>=(self.denom()*other.num()):\n",
    "            return True\n",
    "        else:\n",
    "            return False"
   ]
  },
  {
   "cell_type": "code",
   "execution_count": 9,
   "metadata": {},
   "outputs": [
    {
     "name": "stdout",
     "output_type": "stream",
     "text": [
      "Numerator:  18\n",
      "Denominator:  234\n",
      "Fraction:  18/234\n",
      "Decimal:  0.07692307692307693\n",
      "GCF:  18\n",
      "Reduced Fraction:  1/13\n",
      "Sum:  9/52\n",
      "Difference:  -1/52\n",
      "Product:  5/676\n",
      "Quotient:  4/5\n",
      "Do they equal?  False\n",
      "Do they not equal?  True\n",
      "Is the first one less than the second?  True\n",
      "Is the first one less than or equal to the second?  True\n",
      "Is the first one greater than the second?  False\n",
      "Is the first one greater than or equal to the second?  False\n"
     ]
    }
   ],
   "source": [
    "#Testing the class\n",
    "frax=rational(18,234)\n",
    "print('Numerator: ',frax.num())\n",
    "print('Denominator: ',frax.denom())\n",
    "print('Fraction: ', frax)\n",
    "print('Decimal: ',frax.convert())\n",
    "print('GCF: ',frax.gcf())\n",
    "print('Reduced Fraction: ',frax.reduce())\n",
    "frax2=rational(5,52)\n",
    "print('Sum: ',frax+frax2)\n",
    "print('Difference: ' ,frax-frax2)\n",
    "print('Product: ',frax*frax2)\n",
    "print('Quotient: ',frax/frax2)\n",
    "print('Do they equal? ', frax==frax2)\n",
    "print('Do they not equal? ', frax!=frax2)\n",
    "print('Is the first one less than the second? ', frax<frax2)\n",
    "print('Is the first one less than or equal to the second? ', frax<=frax2)\n",
    "print('Is the first one greater than the second? ', frax>frax2)\n",
    "print('Is the first one greater than or equal to the second? ', frax>=frax2)"
   ]
  },
  {
   "cell_type": "markdown",
   "metadata": {},
   "source": [
    "7) Complete the attached assignment."
   ]
  },
  {
   "cell_type": "code",
   "execution_count": 41,
   "metadata": {},
   "outputs": [
    {
     "name": "stdout",
     "output_type": "stream",
     "text": [
      "How many terms would you like to approximate pi to? 6\n",
      "The series approximation of pi to 6 terms is 10312/3465.\n"
     ]
    }
   ],
   "source": [
    "def computePi():\n",
    "    i=int(input('How many terms would you like to approximate pi to? '))\n",
    "    answer=rational(0,1)\n",
    "    for x in range(0,i):\n",
    "        term = rational(4*(-1)**(x+2),2*x+1)\n",
    "        answer=answer+term\n",
    "    return 'The series approximation of pi to {0} terms is {1}.'.format(i,answer.reduce())\n",
    "\n",
    "print(computePi())"
   ]
  },
  {
   "cell_type": "code",
   "execution_count": null,
   "metadata": {},
   "outputs": [],
   "source": []
  }
 ],
 "metadata": {
  "kernelspec": {
   "display_name": "Python 3",
   "language": "python",
   "name": "python3"
  },
  "language_info": {
   "codemirror_mode": {
    "name": "ipython",
    "version": 3
   },
   "file_extension": ".py",
   "mimetype": "text/x-python",
   "name": "python",
   "nbconvert_exporter": "python",
   "pygments_lexer": "ipython3",
   "version": "3.7.3"
  }
 },
 "nbformat": 4,
 "nbformat_minor": 2
}
