{
 "cells": [
  {
   "cell_type": "markdown",
   "metadata": {},
   "source": [
    "# Algorithms, Computers, Programming I - Homework"
   ]
  },
  {
   "cell_type": "markdown",
   "metadata": {},
   "source": [
    "### 1. Comment your name on one line, your major on a second line, and then something you hope to learn or do in this class (use as many lines as necessary)"
   ]
  },
  {
   "cell_type": "code",
   "execution_count": null,
   "metadata": {},
   "outputs": [],
   "source": [
    "#Alexandra Badescu\n",
    "#Finance\n",
    "#I hope to learn how to build trading algos"
   ]
  },
  {
   "cell_type": "markdown",
   "metadata": {},
   "source": [
    "### 2. Use a single instance of the print function to display your name on one line and your hometown on a second line."
   ]
  },
  {
   "cell_type": "code",
   "execution_count": null,
   "metadata": {},
   "outputs": [],
   "source": [
    "print('Alexandra\\nOradea,Romania')"
   ]
  },
  {
   "cell_type": "markdown",
   "metadata": {},
   "source": [
    "### 3. Create a program that allows the user to enter two real numbers: a and b. Your program will then solve the equation ax+b=0 for x (you can assume that $a\\neq 0$). Your program should display a message like $x=\\textrm{ the answer rounded to 3 decimal places }$."
   ]
  },
  {
   "cell_type": "code",
   "execution_count": null,
   "metadata": {},
   "outputs": [],
   "source": [
    "a=float(input('Enter any number: '))\n",
    "b=float(input('Enter another number: '))\n",
    "print('We will solve the following equation: {0}x+{1}=0 for x'.format(a,b))\n",
    "x= (-1*b)/a\n",
    "print(\"x={0:.3f}\".format(x))"
   ]
  },
  {
   "cell_type": "markdown",
   "metadata": {},
   "source": [
    "### 4. Write a program which asks the user to enter a temperature in degrees Fahrenheit. This program will convert the temperature to degrees Celsius."
   ]
  },
  {
   "cell_type": "code",
   "execution_count": null,
   "metadata": {},
   "outputs": [],
   "source": [
    "print('This program converts degrees Fahrenheit to degrees Celsius.')\n",
    "fahrenheit=float(input('Enter a temperature in degrees Fahrenheit: '))\n",
    "celsius= (fahrenheit-32)*(5/9)\n",
    "print('The equivalent in degrees Celsius is {0}'.format(celsius))"
   ]
  },
  {
   "cell_type": "markdown",
   "metadata": {},
   "source": [
    "### 5. Make a print statement which displays the following:"
   ]
  },
  {
   "cell_type": "raw",
   "metadata": {},
   "source": [
    "  \n",
    "    1------2\n",
    "   /|     /| \n",
    "  3------4 |\n",
    "  | |    | | \n",
    "  | 5----|-6 \n",
    "  |/     |/\n",
    "  7------8"
   ]
  },
  {
   "cell_type": "code",
   "execution_count": null,
   "metadata": {},
   "outputs": [],
   "source": [
    "print('    1------2','   /|     /|','  3------4 |', '  | |    | |', '  | 5----|-6 ', '  |/     |/','  7------8', sep='\\n')"
   ]
  },
  {
   "cell_type": "markdown",
   "metadata": {},
   "source": [
    "### 6. Define your own function for $$f(x)=\\frac{sin(x+1)}{cos(x-1)}$$"
   ]
  },
  {
   "cell_type": "code",
   "execution_count": null,
   "metadata": {},
   "outputs": [],
   "source": [
    "import math\n",
    "\n",
    "def f(x):\n",
    "    numerator=math.sin(x+1)\n",
    "    denominator=math.cos(x+1)\n",
    "    return numerator/denominator"
   ]
  },
  {
   "cell_type": "markdown",
   "metadata": {},
   "source": [
    "### 7. Use the function you just made to display the value of f(pi), rounded to 9 decimal places. You can use pi = 3.14."
   ]
  },
  {
   "cell_type": "code",
   "execution_count": null,
   "metadata": {},
   "outputs": [],
   "source": [
    "print(round(f(math.pi),9))"
   ]
  },
  {
   "cell_type": "markdown",
   "metadata": {},
   "source": [
    "### 8. Without using Python, what would the final values and final types of x and y be after these statements are performed."
   ]
  },
  {
   "cell_type": "markdown",
   "metadata": {},
   "source": [
    "`x, y = 3, \"Hello\"`\n",
    "\n",
    "`y = x*y`\n",
    "\n",
    "`x=len(y)`\n",
    "\n",
    "`y=4`\n",
    "\n",
    "`x=x+1`\n",
    "\n",
    "`y=x/y`\n",
    "\n",
    "`#What are the values and types of x and y now?`"
   ]
  },
  {
   "cell_type": "markdown",
   "metadata": {},
   "source": [
    "x=int, y=float"
   ]
  },
  {
   "cell_type": "markdown",
   "metadata": {},
   "source": [
    "### 9. Without using Python, give the value of each of these statement and specify if the result is an int or a float.\n",
    "\n",
    "`a) 3**2`\n",
    "\n",
    "`b) 4/2`\n",
    "\n",
    "`c) 4//2`\n",
    "\n",
    "`d) 81 % 17`\n",
    "\n",
    "`e) 81 // 17`\n",
    "\n",
    "`f) 2 + 3.0`\n",
    "\n",
    "`g) 4 ** 0.5`\n",
    "\n",
    "`h) 2/int(3.0)`\n",
    "\n",
    "`i) int(2/3.0)`\n",
    "\n",
    "`j) float(4//3)`"
   ]
  },
  {
   "cell_type": "markdown",
   "metadata": {},
   "source": [
    "a) 9, int\n",
    "b) 2.0, float\n",
    "c) 2, int\n",
    "d) 13, int\n",
    "e) 4, int\n",
    "f) 5.0, float\n",
    "g) 2.0, float\n",
    "h) 0.6666, float\n",
    "i) 0, int\n",
    "j) 1.0, float"
   ]
  },
  {
   "cell_type": "markdown",
   "metadata": {},
   "source": [
    "### 10. Find all the errors in the code below:\n",
    "\n",
    "`# Programming Assignment 0`\n",
    "\n",
    "`This program converts from radians to degrees`\n",
    "\n",
    "`x=input(Enter an angle in radians:)`\n",
    "\n",
    "`#Assume pi = 3.14`\n",
    "\n",
    "`180x/3.14 = degrees`\n",
    "\n",
    "`print('The angle in degrees is '+radians)`"
   ]
  },
  {
   "cell_type": "code",
   "execution_count": null,
   "metadata": {},
   "outputs": [],
   "source": [
    "x=input(Enter an angle in radians:)\n",
    "#Assume pi = 3.14\n",
    "180x/3.14 = degrees\n",
    "print('The angle in degrees is '+radians)"
   ]
  },
  {
   "cell_type": "raw",
   "metadata": {},
   "source": [
    "Since there are no quotation marks or ' ' around the \"Enter an angle in radians,\" the user is not prompted to enter anything, so x is not defined. Also, \"in\" is a python key word, which confuses the program. Additionally, degrees should be defined as \"degrees = ___ \" not the inverse, which is how it's done here. The 180x is incorrect as well; all multiplication needs the *. symbol. There is also a \"radians\" variable used in the last line, which is not defined anywhere in the code."
   ]
  },
  {
   "cell_type": "code",
   "execution_count": null,
   "metadata": {},
   "outputs": [],
   "source": []
  }
 ],
 "metadata": {
  "kernelspec": {
   "display_name": "Python 3",
   "language": "python",
   "name": "python3"
  },
  "language_info": {
   "codemirror_mode": {
    "name": "ipython",
    "version": 3
   },
   "file_extension": ".py",
   "mimetype": "text/x-python",
   "name": "python",
   "nbconvert_exporter": "python",
   "pygments_lexer": "ipython3",
   "version": "3.7.3"
  }
 },
 "nbformat": 4,
 "nbformat_minor": 2
}
