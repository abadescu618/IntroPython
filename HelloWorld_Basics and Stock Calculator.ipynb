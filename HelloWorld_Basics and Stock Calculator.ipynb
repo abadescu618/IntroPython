{
 "cells": [
  {
   "cell_type": "markdown",
   "metadata": {},
   "source": [
    "# HelloWorld/Basics and Stock Calculator"
   ]
  },
  {
   "cell_type": "code",
   "execution_count": null,
   "metadata": {},
   "outputs": [],
   "source": [
    "print('hello')\n",
    "#Hello World\n",
    "#x=5\n",
    "#print(x)\n",
    "#x=7\n",
    "#print(x)\n",
    "#x='5'\n",
    "#print(x)\n",
    "#type(x)\n",
    "#print(type(x))\n",
    "#x=10\n",
    "#print(type(x))\n",
    "#x=True\n",
    "#print(type(x))\n",
    "x=2\n",
    "print(type(x))\n",
    "print(x)\n",
    "y=3\n",
    "print(y)\n",
    "print(x+y)\n",
    "print(x*y)\n",
    "total = x * y\n",
    "print(total)\n",
    "print('hi' * 5)\n",
    "repeat = 10\n",
    "print('hi' * repeat)\n",
    "#message = 'lol'\n",
    "#print(message*repeat)\n",
    "#message = input('tell me a message:')\n",
    "#print(message)\n",
    "#print('You said ' + message)\n",
    "#print('You said',message)\n",
    "#message=input('what stock do you want to trade? ')\n",
    "#print(message)\n",
    "#print('TRADE',message)\n",
    "message=input('What stock do you want to trade? ')\n",
    "#int_symbol=int(symbol)\n",
    "#calc=int_symbol+2\n",
    "#print(calc)\n",
    "num_of_times = input('How many shares? ')\n",
    "#print(num_of_times)\n",
    "#print(int(num_of_times)*message)\n",
    "share_price=input('What is the share price? ')\n",
    "print('It will cost you',int(num_of_times)*int(share_price))"
   ]
  }
 ],
 "metadata": {
  "kernelspec": {
   "display_name": "Python 3",
   "language": "python",
   "name": "python3"
  },
  "language_info": {
   "codemirror_mode": {
    "name": "ipython",
    "version": 3
   },
   "file_extension": ".py",
   "mimetype": "text/x-python",
   "name": "python",
   "nbconvert_exporter": "python",
   "pygments_lexer": "ipython3",
   "version": "3.7.3"
  }
 },
 "nbformat": 4,
 "nbformat_minor": 2
}
